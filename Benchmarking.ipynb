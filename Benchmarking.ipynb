{
 "cells": [
  {
   "cell_type": "code",
   "execution_count": 8,
   "metadata": {},
   "outputs": [],
   "source": [
    "import timeit"
   ]
  },
  {
   "cell_type": "code",
   "execution_count": 11,
   "metadata": {},
   "outputs": [],
   "source": [
    "def print_frontier(frontier):\n",
    "    print(\"\\rThe frontier currently has {} nodes.\".format(len(frontier)), end='', flush=True)\n",
    "\n",
    "class VariableObserver:\n",
    "    def __init__(self, variable):\n",
    "        self.variable = variable\n",
    "        self.previous_value = variable\n",
    "        self.callback = None\n",
    "\n",
    "    def set_callback(self, callback):\n",
    "        self.callback = callback\n",
    "\n",
    "    def check(self):\n",
    "        current_value = self.variable\n",
    "        if len(current_value) != len(self.previous_value):\n",
    "            self.previous_value = current_value\n",
    "            if self.callback:\n",
    "                self.callback(current_value)\n",
    "\n",
    "class Benchmarking:\n",
    "    def __init__(self, bfs, dfs, a_star, iterative_deeping, beam, hill_climbing, inputs):\n",
    "        self.bfs = bfs\n",
    "        self.dfs = dfs\n",
    "        self.a_star = a_star\n",
    "        self.iterative_deeping = iterative_deeping\n",
    "        self.beam = beam\n",
    "        self.hill_climbing = hill_climbing\n",
    "        self.inputs = inputs\n",
    "        self.list_of_functions = [self.bfs, self.dfs, self.a_star, self.iterative_deeping, self.beam, self.hill_climbing]\n",
    "        self.names = [\"BFS\", \"DFS\", \"A*\", \"Iterative Deeping\", \"Beam\", \"Hill Climbing\"]\n",
    "        self.exclusion_list = []\n",
    "        \n",
    "    def update_exclusion_list(self, exclusion_list):\n",
    "        self.exclsion_list = exclusion_list\n",
    "        \n",
    "    def function_timer(self, function, inputs, frontier, check, number=1):\n",
    "        timer = timeit.Timer(lambda: function(*inputs, frontier, check))\n",
    "        return timer.timeit(number=number)\n",
    "    \n",
    "    def frontier_initialization(self, frontier):\n",
    "        self.frontier = frontier\n",
    "        self.frontier_observer = VariableObserver(self.frontier)\n",
    "        self.frontier_observer.set_callback(print_frontier)\n",
    "        return self.frontier_observer.check\n",
    "    \n",
    "    def run_single_function(self, function, name, inputs):\n",
    "        frontier = [];\n",
    "        check = self.frontier_initialization(frontier)\n",
    "        print(name, \" took \", self.function_timer(function, inputs, frontier, check) + \" seconds to run\")\n",
    "    \n",
    "    def benchmark(self):\n",
    "        for i in range(len(self.list_of_functions)):\n",
    "            if i not in self.exclusion_list:\n",
    "                self.run_single_function(self.list_of_functions[i], self.names[i], self.inputs[i])\n",
    "        "
   ]
  }
 ],
 "metadata": {
  "kernelspec": {
   "display_name": "base",
   "language": "python",
   "name": "python3"
  },
  "language_info": {
   "codemirror_mode": {
    "name": "ipython",
    "version": 3
   },
   "file_extension": ".py",
   "mimetype": "text/x-python",
   "name": "python",
   "nbconvert_exporter": "python",
   "pygments_lexer": "ipython3",
   "version": "3.8.16"
  },
  "orig_nbformat": 4
 },
 "nbformat": 4,
 "nbformat_minor": 2
}
