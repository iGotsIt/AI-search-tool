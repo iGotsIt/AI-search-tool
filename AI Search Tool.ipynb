{
 "cells": [
  {
   "cell_type": "code",
   "execution_count": 7,
   "id": "c9a475d8",
   "metadata": {},
   "outputs": [],
   "source": [
    "import pydot\n",
    "import networkx as nx\n",
    "import matplotlib.pyplot as plt\n",
    "from collections import defaultdict\n",
    "from networkx.drawing.nx_pydot import graphviz_layout"
   ]
  },
  {
   "cell_type": "code",
   "execution_count": 41,
   "id": "47fc9d32",
   "metadata": {},
   "outputs": [],
   "source": [
    "class Graph:\n",
    "    def __init__(self, vertices, edges, start, goal, weighted = False):\n",
    "        '''\n",
    "        edge is a tuple of vertices (node 1, node 2, cost)\n",
    "        think this is already kind of a digraph?\n",
    "        '''\n",
    "        self.vertices, self.edges = {}, {}\n",
    "        self.weighted = weighted\n",
    "        self.visualization = edges\n",
    "        self.start, self.goal = start, goal\n",
    "        self.adjList = defaultdict(list)\n",
    "        self.nx_graph = nx.Graph()\n",
    "        self.initialize_params(vertices, edges)\n",
    "\n",
    "    def visualize_graph(self):\n",
    "        if (self.weighted == True):\n",
    "            costs = nx.get_edge_attributes(self.nx_graph, 'weight')\n",
    "            pos = graphviz_layout(self.nx_graph, prog = \"dot\", root = self.start)\n",
    "            nx.draw_networkx_edge_labels(self.nx_graph, pos, edge_labels = costs, font_color = 'red')\n",
    "            nx.draw_networkx(self.nx_graph, pos, with_labels = \"True\", alpha = 0.9, node_color = 'cyan')\n",
    "        else:\n",
    "            pos = graphviz_layout(self.nx_graph, prog = \"dot\", root = self.start)\n",
    "            nx.draw_networkx(self.nx_graph, pos, with_labels = \"True\")\n",
    "        plt.show()\n",
    "        \n",
    "    def create_adj_list(self, edges):\n",
    "        for edge in edges:\n",
    "            source = edge[0]\n",
    "            destination = edge[1]\n",
    "            self.adjList[source].append(destination)\n",
    "            self.adjList[destination].append(source)\n",
    "            \n",
    "    def print_adj_list(self):\n",
    "        for item in self.adjList.items():\n",
    "            print(item)\n",
    "    \n",
    "    def create_node_dict(self, vertices):\n",
    "        for vertex in vertices:\n",
    "            try: node, heuristic = vertex\n",
    "            except: node, heuristic = vertex, 0\n",
    "            self.vertices[node] = heuristic\n",
    "    \n",
    "    def create_edge_dict(self, edges):\n",
    "        for edge in edges:\n",
    "            edge_name = (edge[0], edge[1])\n",
    "            try:\n",
    "                edge_cost = edge[2]\n",
    "            except:\n",
    "                edge_cost = 0\n",
    "            self.edges[edge_name] = edge_cost\n",
    "    \n",
    "    def create_nx_graph(self):\n",
    "        if (self.weighted == True):\n",
    "            self.nx_graph.add_weighted_edges_from(self.visualization)\n",
    "        else:\n",
    "            self.nx_graph.add_edges_from(self.visualization)\n",
    "    \n",
    "    def initialize_params(self, vertices, edges):\n",
    "        self.create_adj_list(edges)\n",
    "        self.create_node_dict(vertices)\n",
    "        self.create_edge_dict(edges)\n",
    "        self.create_nx_graph()\n",
    "    "
   ]
  },
  {
   "cell_type": "code",
   "execution_count": 42,
   "id": "8e5042b3",
   "metadata": {},
   "outputs": [],
   "source": [
    "from collections import deque\n",
    "import queue\n",
    "from copy import deepcopy\n",
    "\n",
    "def get_path(current_position, previous_node):\n",
    "    path = []\n",
    "    while current_position in previous_node.keys() and current_position != None:\n",
    "        path.append(current_position)\n",
    "        current_position = previous_node[current_position]\n",
    "    return path"
   ]
  },
  {
   "cell_type": "code",
   "execution_count": 43,
   "id": "8e5042b3",
   "metadata": {},
   "outputs": [],
   "source": [
    "def BFS(graph):\n",
    "    '''\n",
    "    Returns a frontier history, explore history, and path history. \n",
    "    Use history to visualize the frontier, path, and explored nodes at each step. \n",
    "    '''\n",
    "    frontier_steps = []\n",
    "    explored_steps = []\n",
    "    start = graph.start\n",
    "    goal = graph.goal\n",
    "    explored = deque([start])\n",
    "    frontier = deque([start])\n",
    "    previous_node = {start: None}\n",
    "    paths_history = []\n",
    "    frontier_steps.append(deepcopy(frontier))\n",
    "    explored_steps.append(deepcopy(explored))\n",
    "    paths_history.append([])\n",
    "    while len(frontier) != 0:\n",
    "        current_node = frontier[0]\n",
    "        frontier.popleft()\n",
    "        if current_node == goal:\n",
    "            frontier_steps.append(deepcopy(frontier))\n",
    "            explored_steps.append(deepcopy(explored))\n",
    "            paths_history.append(get_path(current_node, previous_node))\n",
    "            return frontier_steps, explored_steps, paths_history       \n",
    "        for node in graph.adjList[current_node]:\n",
    "            if node not in explored:\n",
    "                frontier.append(node)\n",
    "                explored.append(node)\n",
    "                previous_node[node] = current_node\n",
    "        frontier_steps.append(deepcopy(frontier))\n",
    "        explored_steps.append(deepcopy(explored))\n",
    "        paths_history.append(get_path(current_node, previous_node))"
   ]
  },
  {
   "cell_type": "code",
   "execution_count": 44,
   "id": "7b2a1ee0",
   "metadata": {},
   "outputs": [],
   "source": [
    "def DFS(graph):\n",
    "    '''\n",
    "    Returns a frontier history, explore history, and path history. \n",
    "    Use history to visualize the frontier, path, and explored nodes at each step. \n",
    "    '''\n",
    "    frontier_steps = []\n",
    "    explored_steps = []\n",
    "    start = graph.start\n",
    "    goal = graph.goal\n",
    "    explored = deque([start])\n",
    "    frontier = deque([start])\n",
    "    previous_node = {start: None}\n",
    "    paths_history = []\n",
    "    frontier_steps.append(deepcopy(frontier))\n",
    "    explored_steps.append(deepcopy(explored))\n",
    "    paths_history.append([])\n",
    "    while len(frontier) != 0:\n",
    "        current_node = frontier[-1]\n",
    "        frontier.pop()\n",
    "        if current_node == goal:\n",
    "            frontier_steps.append(deepcopy(frontier))\n",
    "            explored_steps.append(deepcopy(explored))\n",
    "            paths_history.append(get_path(current_node, previous_node))\n",
    "            return frontier_steps, explored_steps, paths_history       \n",
    "        for node in graph.adjList[current_node]:\n",
    "            if node not in explored:\n",
    "                frontier.append(node)\n",
    "                explored.append(node)\n",
    "                previous_node[node] = current_node\n",
    "        frontier_steps.append(deepcopy(frontier))\n",
    "        explored_steps.append(deepcopy(explored))\n",
    "        paths_history.append(get_path(current_node, previous_node))"
   ]
  },
  {
   "cell_type": "code",
   "execution_count": 45,
   "id": "98d21421",
   "metadata": {},
   "outputs": [
    {
     "data": {
      "image/png": "[encoded data removed]",
      "text/plain": [
       "<Figure size 432x288 with 1 Axes>"
      ]
     },
     "metadata": {},
     "output_type": "display_data"
    }
   ],
   "source": [
    "graph = Graph(['A', 'B', 'C', 'D'], [('A', 'B'), ('B', 'C'), ('B', 'D')], 'A', 'C')\n",
    "graph.visualize_graph()"
   ]
  },
  {
   "cell_type": "code",
   "execution_count": 70,
   "id": "89b0c7d4",
   "metadata": {},
   "outputs": [
    {
     "name": "stdout",
     "output_type": "stream",
     "text": [
      "[deque(['A']), deque(['B']), deque(['C', 'D']), deque(['D'])]\n"
     ]
    }
   ],
   "source": [
    "f_h, e_h, p_h = BFS(graph)\n",
    "print(f_h)"
   ]
  },
  {
   "cell_type": "code",
   "execution_count": 79,
   "id": "8ec2d35b",
   "metadata": {},
   "outputs": [],
   "source": [
    "from celluloid import Camera\n",
    "from IPython.display import HTML\n",
    "\n",
    "def animate_search(graph, f_h, e_h, p_h):\n",
    "    '''\n",
    "    inputs: Graph graph\n",
    "    frontier history f_h: list of frontiers \n",
    "    explored history e_h: list of explored queues\n",
    "    path history p_h: list of paths that the search is exploring at a given time\n",
    "    '''\n",
    "    fig = plt.figure()\n",
    "    camera = Camera(fig)\n",
    "    for i in range(len(f_h)):\n",
    "        color_map = []\n",
    "        for node in graph.nx_graph:\n",
    "            if node in p_h[i]: \n",
    "                color_map.append('green')\n",
    "            elif node in f_h[i]:\n",
    "                color_map.append('yellow')\n",
    "            elif node in e_h[i]:\n",
    "                color_map.append('purple')\n",
    "            else:\n",
    "                color_map.append('cyan')\n",
    "        if graph.weighted == True:\n",
    "            costs = nx.get_edge_attributes(graph.nx_graph, 'weight')\n",
    "            pos = graphviz_layout(graph.nx_graph, prog = \"dot\", root = graph.start)\n",
    "            nx.draw_networkx_edge_labels(graph.nx_graph, pos, edge_labels = costs, font_color = 'red')\n",
    "            nx.draw_networkx(graph.nx_graph, pos, with_labels = \"True\", alpha = 0.9, node_color=color_map)\n",
    "            plt.draw()\n",
    "            camera.snap()\n",
    "        else:\n",
    "            pos = graphviz_layout(graph.nx_graph, prog = \"dot\", root = graph.start)\n",
    "            nx.draw_networkx(graph.nx_graph, pos, with_labels = \"True\", node_color=color_map)\n",
    "            plt.draw()\n",
    "            camera.snap()\n",
    "    animation = camera.animate(interval=500, repeat=True)\n",
    "    return animation\n",
    "\n",
    "def save_animation(animation, filename):\n",
    "    animation.save(filename)\n"
   ]
  },
  {
   "cell_type": "code",
   "execution_count": 80,
   "id": "b41ef3a1",
   "metadata": {},
   "outputs": [
    {
     "data": {
      "text/html": [
       "<video width=\"432\" height=\"288\" controls autoplay loop>\n",
       "  <source type=\"video/mp4\" src=\"data:video/mp4;base64,AAAAHGZ0eXBNNFYgAAACAGlzb21pc28yYXZjMQAAAAhmcmVlAAAT1W1kYXQAAAKfBgX//5vcRem9\n",
       "5tlIt5Ys2CDZI+7veDI2NCAtIGNvcmUgMTU5IC0gSC4yNjQvTVBFRy00IEFWQyBjb2RlYyAtIENv\n",
       "cHlsZWZ0IDIwMDMtMjAxOSAtIGh0dHA6Ly93d3cudmlkZW9sYW4ub3JnL3gyNjQuaHRtbCAtIG9w\n",
       "dGlvbnM6IGNhYmFjPTEgcmVmPTMgZGVibG9jaz0xOjA6MCBhbmFseXNlPTB4MzoweDExMyBtZT1o\n",
       "ZXggc3VibWU9NyBwc3k9MSBwc3lfcmQ9MS4wMDowLjAwIG1peGVkX3JlZj0xIG1lX3JhbmdlPTE2\n",
       "IGNocm9tYV9tZT0xIHRyZWxsaXM9MSA4eDhkY3Q9MSBjcW09MCBkZWFkem9uZT0yMSwxMSBmYXN0\n",
       "X3Bza2lwPTEgY2hyb21hX3FwX29mZnNldD0tMiB0aHJlYWRzPTkgbG9va2FoZWFkX3RocmVhZHM9\n",
       "MSBzbGljZWRfdGhyZWFkcz0wIG5yPTAgZGVjaW1hdGU9MSBpbnRlcmxhY2VkPTAgYmx1cmF5X2Nv\n",
       "bXBhdD0wIGNvbnN0cmFpbmVkX2ludHJhPTAgYmZyYW1lcz0zIGJfcHlyYW1pZD0yIGJfYWRhcHQ9\n",
       "MSBiX2JpYXM9MCBkaXJlY3Q9MSB3ZWlnaHRiPTEgb3Blbl9nb3A9MCB3ZWlnaHRwPTIga2V5aW50\n",
       "PTI1MCBrZXlpbnRfbWluPTIgc2NlbmVjdXQ9NDAgaW50cmFfcmVmcmVzaD0wIHJjX2xvb2thaGVh\n",
       "ZD00MCByYz1jcmYgbWJ0cmVlPTEgY3JmPTIzLjAgcWNvbXA9MC42MCBxcG1pbj0wIHFwbWF4PTY5\n",
       "IHFwc3RlcD00IGlwX3JhdGlvPTEuNDAgYXE9MToxLjAwAIAAAApUZYiEABX//vfJ78Cm61tbtb+T\n",
       "z0j8LLc+wio/blsTtOoAAAMAABnblS+MhuoLgPtAADyZ5SNMyH/4gBZJE9e+8S6SZez1HFj1KQ/k\n",
       "Ao/FOhfcDg5Fii52rXyj3IcQrk47PL5xAEF9AFbcFsWPmHYU9sqarsS42ZN1CUe3Da9VieFkHPqQ\n",
       "KJ1FoPoJq6iJMHSKqZ8F3/ydYTGov5Y3r0Pm/82e8jqP6HK/W9DJ6WTv2u50jHsKvR9XH48PwbWj\n",
       "Xc+ThQJlkks3Yi296R64oEJM79344cggmlmSkRPLIpWUMRt/ARxHcnqfs/SKZ1aiElqXrE7DZVea\n",
       "OFgi2OQt9A2yYerhrxXXby/qmaTUkzSCm3XDR8+M7HxpKwCeD+eqvBGDZ0hrZBQurBGGMtpcekKF\n",
       "CEK6CQTDokncwzVGta/JTwmRk4kow434uJEXMT0Dc0EAZJ9z74gL9atgT+YdduLe3XGFPNxjznU5\n",
       "7v1mS1Eu2YJBCHvy+Ux4ypkindulVAefhuf+5UR+QDu6reLDnbYaoS1r61/vrmNnZxnhA58dwkBV\n",
       "hYo1XOmg6o4r46AXJPx7xDAC5ti82V+75epMrgZSbREQVdQ/GuRMOSQiS+aICg0xcnqirJUo+LtL\n",
       "6GsdMPsqNkPZOOEYVQHw9tViaT+D/wfN1RN/kPFCBIby6fvC2kxjON0Rw0dBrVoyBUHyw12StcdG\n",
       "QGiYPROHc5lzbprjUkVF50Jl2tcJoevogKZ/JxMM1LNkEMNzu2FEYXDloPG48n7vQU5Nh3R59STG\n",
       "c/nQcohJHMKL+SUDpYciY2vbpcV6dWVWv+InF7ifWSJYuAC7jrI0IzGc2kzXJUiGK3RT/dnPkqIR\n",
       "znAe6OIL/CklHCVIdZ0sMPEFKVLUw7WpCw7U4c3jomzfGVY3Mxe9+L4NfpaFVKY0TyIxbsKaAMML\n",
       "QD8oiiQlc0PMDJzsPeAqfWLNPT+6Vx+gRPDPyO4dLED1vjidPS4iMYnnnAgwl0K5eYK9EMP0xdwh\n",
       "WXf1I2apAgHLNckJ4N3B6vjzOrWxLp27X864aIWee5yjlnOz7eX/DPHaXHvOTdOj955GH+0fGLaF\n",
       "TdvwFQavObIwF16IcFt2KKnOvxzPNzYygbhl26WoIBoVi0qiEdWO0v0hXI5W9VsM313mbAfyrU+J\n",
       "HvT4XHizYepA7i4H/yBTeXBz17v6Wuz0aP4r7l4u9QL9pE5b2XmT4vRKPovCukJoUQ3YmNgj38+g\n",
       "1924uVUFwMBwTdT0LtzUtmX9vhW/G+PKHPMq9Y7OgarqoXpgJ9Oj9f2pgtuX/ldD7cVFzbFibHum\n",
       "E8O0iz2XQxsvtMGLwlfOUDn8/AL0YWRfxOgHOIhHJCmrD9HIVnXtTN9irPJ461aDh545p4w6xSOC\n",
       "LzHANtt9llnxApyZx3Wn21b26oS3lQPthaQLQRgEqTDgmIGBUX4FEMwNESG5ae4MdLAulML1R0ET\n",
       "GbUaEQMb9dEoeE4lb8Uo2zRaUIe9HKGqFEIF9+5lfv4rxdzu/KiKxkcGc2CLXqFo37VSRkBb7CMu\n",
       "xVpjOOMNGo53sPqDFwHmvcPhjh1gVz/tNdcC+LMbWFvWpEcBHqK5l4Xu4RWp8Vs5kjy/YIigFYHX\n",
       "Z3N9fWsHVBmfjJjiiaTn+qp71pduNqf3jmDHC6P8uIXuso9HsBozjcogI05BUqXOppvBhiRZr1SL\n",
       "ehCEH+LXFKXu/dJ9PFbcbg7v6s6Ixtg1oJkZxOg5ZWDwtZ0AmFGVKxvPDiu65Jgz20w3ofzOzXUQ\n",
       "QwQh2xpmpmIx8ATEs0zPz5S0PEePvc20NZgdNcd8t6A89GkqnUqW9ISaIO/Dd5lFEAhcRjwooS61\n",
       "B/GElRUwuJlJo3LNeSq7UszsZ5uGDY30tlzeI2RWO3T1lZUcAQ+ykgGW6bgYzJ9cs+AVX8ZS7GEY\n",
       "f5QYARIme0w23LS8iOiXgWChDijcuV7QzLguTh81c1RBdpPkfVF1qtKqPTmQ//0ccv/dPX4nhkb0\n",
       "I25P9/nSCCps7KL+KqY+IxtUfmRjc6Xngocw/h/+CdVj4iWd2k4HisBq9j1M82tiMTtgxcxznmg0\n",
       "pFPCs7fwJ0jeVfD74xeHprVR3yuqrqOSYpzhUKfmV85MMQrmRxy+fw8SvCk0WvyHOqjyqg3/DNum\n",
       "uVp0nxO4xAMGrQRGGj4Du8ercV1C8/QINtFY4wZh9LOPCZ3heKyym3F0Q+42Md6I5EhSj66agF4c\n",
       "jCit+h39C6TjuA/DaZY0dvq3S5mw3vRXyR+A/bxYqvM2F0viEb4INyUOjYKQPKVpAliRaj51QZ4w\n",
       "Cwv242YbPpSVZUjPCFCW4sxl32fJTBrsHRH7kLgMAQdKl8lpoa7VOZvkZDsOSW4skrNp7UvZl7XN\n",
       "4cQc1ZxPTLhQPNhwG4/4N+6cgGHKhWt+XRQIIMV9N15qpbEIjgqW14N1DQ6eirgtbD/slGhZoVWo\n",
       "wZCBAMFUtUjg3qZxgbrwL21RADRwykev+Y6PCPQrBeYAcDDHYwdzwnj/ep6xoxilX6w+7mu5tr/u\n",
       "sazCioyzug0Lu/o8PEwZMk6cZXP3XVyD6xxyJ1Nsx5RufDH8bAJoJjDd6jqackulnXLqrwpSokWe\n",
       "41FzpR/8vWbxKq2oIMwGgNvEp/skmJNSfZQXUyxiPfdSVrfKr7PO/1/5V0wDOsG2Eq1x/h9/jsxv\n",
       "Zcv4rVCNWdm/9kuxL+pjy0VLAubGbJdq3RcSVTYvyst/1Pg4RkVe7Z+pY7gd7yFejFPUzpPYuH5t\n",
       "4MZWyIh5QsLHnJ+ASGtKuJ1m1GhfqQrHYkQ2Og1sh+ZD+mIwbUse9ag0j3oVhe9fONs/pei6RmAu\n",
       "QWvxSmN/cjlBLbKYckagVB/PyOU+Y0fz9Y1Dl9sPv/fR+NjMVLJHWMfg8fGHzDSG/2sfllUjIfMr\n",
       "kInK1NAwgCDBX5zb8fEtSXvRHHVqOQZ3LAu41O+4qm2tvnvPv80NI6qgwWnBsKqLPjnt3qDjDf9C\n",
       "SH6/oH+niiWhtSgv0rFyW+uxpqIyVon9D/Jyj/veBUyVR2j7Xdz9iiC2oQbPqINT+flMtCdDJkiA\n",
       "SXVnpxMQPGp+Hnr4RBtmGd67bQfpbD4osbLzzXv7Xij4+Pr/U6lpHAXmtWw8Wyn5HXIjnQCcwemU\n",
       "hWlU9GziOGYSpYSz7Rc7qUBPdbP8PKQn9fsb57+si3Dfi5vJrS5KriWDThlpAQ9nsSTnRPoUHAcJ\n",
       "4TluCUmY/m/pTKsvvDRcrvaKSClh2YL08GuaEbDA7v6tAAZsUskfziqZff0U9hUvhVm55PeUxdcP\n",
       "fnyguejTaMVe1pb0tuMjr5QE26z1JvQMTQ7+EpMX2dsD6VY/W/m8AZrcX2fRzhEnifa7y9hD0TVF\n",
       "wuXO/yajP++kVLmlxahFZtz9f/78awGg99EZJ1jebr8tcwtIy8LhaZnMqfXJYsdao5o2LyFikCpr\n",
       "/9gxsoF7BhY+L1FuEI1ESEx2nBhVtcWNzRff1uZ3PmXwQ/7/j02JFuBT9zWUgCKqhFyA2v8AHcjY\n",
       "fWgQsQAABC1BmiNsQS/+tSqAFuyuv8fIPQATupOZEr49EgJoBuEsLIZZXrFTilxlzC5mh1D7AnPw\n",
       "WmZqlAhU7+FCxpI5azfg0WpE38xgxRHVGXQLHgWDwNwC5Nly3kA8RB5qKv5tIUzmkTW74INtGBDR\n",
       "cHdrqm1ud2ZdFtmVqb5PICR34RI8JdsftOJRLrbrktawDpiEZg6y+iPxFZVYHFsRHxyf9Nkjdzuw\n",
       "N4LCQ0AkFMr0n2WL2P8bljHZOov39rBTtz+1lU4J8Suq754z9o+oOskmFgBh2kkZyn5aF4dfmKDD\n",
       "zvuX5fe6dw40Sw94xvN34c1xNTJUwjGjsNo6vbEwldt64aLbQy8D2LaJ0FuugLFV4ChAkMpxCPah\n",
       "pjuj/J6WSSihK1W5IDadpX3XJ2Arup5DYwWcIAMUSjIQZqSKy+MNDtpgXCKpd2un3ephFoshmloX\n",
       "YlWNYG2xu9Snr2GqbmcRcDbUW+x/+5AiMOeP5YhJgha4+KMe0qvuCiFjhU+tbwBXfsRwruN0Kb42\n",
       "QWWh6d8Yvl2D732l0ZuYHxvTT6vYklgyjbW2xJSTKXmkQ9KctX0rn7mbbe/TLkfVY4j2o5aolizu\n",
       "BjMtSHABrrwD4GULeiHoxdGKuptbrRFFtxogAOMBTtCcGIEduytvjqkRaHadHfypuh9oZFX2aLAE\n",
       "rmOnqvmGw5PpdV9OaymRHe+Afi7gEL+B6/w+kRWANCRhY4Wsasc8wqq/YFln2H/SknzRoZWJEy+O\n",
       "NbcdFIJ315pKj2umQc6gBP3WlrRLMcES4FeTNXpl2n2Mys6JjY0j7VUkOeBQOynoL+ME0s7ZJ8Bb\n",
       "4qc3oQG0K13rRLDnHztqkp6Erhm0kgUw36KjcH7MAjgIkAoD+cwxCphaPHa+S1pf04gjjXaFQY4r\n",
       "r2GNEdy1gN9hFZVLKXt3EAJeDKauUVZFWvzi0DuvEzAT+CA4Ad3mcbc30RcX0QOz8JrEo1tPiXpP\n",
       "tNk3sVOxc+rY0h9kOVEIV2LRhZ1EAfMA6uCa1mQwy+VvRdtW0B9spCeQWkbcGl5QDChrS/EDG/xE\n",
       "hImaXWx7Csf3ek7Av7vHNR3u8n7XcYNJq9rGexhNf6EaiIBRWJIdEXMyulZhILpdBGEyHhYnfqeP\n",
       "UAaZeYc54wL6y812FDcQMHPEDAB4JZ3xYlAJwXOwfphG6WMB6eb3pZyYsS6l8w+v97LfrQGJNQch\n",
       "rgrFgjZjVO8BkgDn3OY1hvjvoCQexWyc0a2kbouSUjfSUfUAPTR0xcquqBioFLk//satnvfqoK2T\n",
       "7zfhxBGStft1iuKGH0Q14HEJccMVYthkPeZZaSog5S7PNgXndsPZ4lRNo3dtc2Wg7xblBl4H3wwu\n",
       "FcW7iWiuDElOemm7VVxT+LcYzUsy3s/46xEjSk6Ri+XtFcZ5SU/UlJm1onVV0JXpxeyAAAABYUGe\n",
       "QXiCfwAHSCNSvjuJafUTtzIxwcwAbS37heP1xegdTW6TOyeZe5kVRubI3ZS/IPrquhvtHOKGSlAC\n",
       "Fm6bgNIRHhzAplYWnJkEZ1+QquEmHAKn9Zp3oLYhPL+/40sHDJkLJngonQfBZAhnIbZ5kq40pVKP\n",
       "StBMZrkec0XV+gBdXwSBcwH2S3vYlL/1LT2EzVPbSTV1fh7FhCMnd6KjJPyB2KuLt/sqHY9hAUNj\n",
       "0E7SxBF78eorEjKJ/lgHwetsZvThO96rYS5tAnOk4Nn8r6Zvr/gHZ4/P/qABjxK5yvQbl9krfKFL\n",
       "93UAwAINrZPzamL/vnDh2/Hz7MOV+10x12qVmgrffublNK8Xie/6SzGg4CbWWTpjiJAAiTa5Lx2v\n",
       "lxA7GDDpq2vhd44X8NCBwFnDz1mFZ8AtxAMk0saVVqxsdEImf6zDPnUnlPd4E0royU/dQvxGdTHV\n",
       "uE7kTwUt2TuxAAABOAGeYmpBLwACsb/b8p+0L2ldEh2JgTi5boBp5xn8XWM2Auk/Xm0XhY+J/HIG\n",
       "jZBfXNZ9pUsc65z7xssC3u7NbZPoyBfff/n+pgUww50xTlS2haXy96mvcb3mQIjTM1E0DeyKL/ln\n",
       "qzHssevdri23qpgxcuY3JmybwjHH//FwQlW+2WArXzNX87o7izjPOi9obNoXdfMtWTr1OLDkXGO2\n",
       "a6MJyqgT53FyChGUea4QEyLxxgk5fCT8vGtZie+GZ/xvDksyvfdgmWe3JCGy0Ynvz8f1TssU4mCv\n",
       "6zZmIj5jpXULBxHVjtLvrJd/tokd8iz2wLcJ5tWUMA2U1NTE/2MW90uVysq8fNKa4OY+4MJ7uIuj\n",
       "WNv7Lw806MTNopI90zN0WTyhCRnwVOy9Z5a30MRfc6bRvKwUBL9i8AAAA1Ztb292AAAAbG12aGQA\n",
       "AAAAAAAAAAAAAAAAAAPoAAAH0AABAAABAAAAAAAAAAAAAAAAAQAAAAAAAAAAAAAAAAAAAAEAAAAA\n",
       "AAAAAAAAAAAAAEAAAAAAAAAAAAAAAAAAAAAAAAAAAAAAAAAAAAAAAAACAAACgHRyYWsAAABcdGto\n",
       "ZAAAAAMAAAAAAAAAAAAAAAEAAAAAAAAH0AAAAAAAAAAAAAAAAAAAAAAAAQAAAAAAAAAAAAAAAAAA\n",
       "AAEAAAAAAAAAAAAAAAAAAEAAAAABsAAAASAAAAAAACRlZHRzAAAAHGVsc3QAAAAAAAAAAQAAB9AA\n",
       "AEAAAAEAAAAAAfhtZGlhAAAAIG1kaGQAAAAAAAAAAAAAAAAAAEAAAACAAFXEAAAAAAAtaGRscgAA\n",
       "AAAAAAAAdmlkZQAAAAAAAAAAAAAAAFZpZGVvSGFuZGxlcgAAAAGjbWluZgAAABR2bWhkAAAAAQAA\n",
       "AAAAAAAAAAAAJGRpbmYAAAAcZHJlZgAAAAAAAAABAAAADHVybCAAAAABAAABY3N0YmwAAACzc3Rz\n",
       "ZAAAAAAAAAABAAAAo2F2YzEAAAAAAAAAAQAAAAAAAAAAAAAAAAAAAAABsAEgAEgAAABIAAAAAAAA\n",
       "AAEAAAAAAAAAAAAAAAAAAAAAAAAAAAAAAAAAAAAAAAAAAAAY//8AAAAxYXZjQwFkABX/4QAYZ2QA\n",
       "FazZQbCWhAAAAwAEAAADABA8WLZYAQAGaOvjyyLAAAAAHHV1aWRraEDyXyRPxbo5pRvPAyPzAAAA\n",
       "AAAAABhzdHRzAAAAAAAAAAEAAAAEAAAgAAAAABRzdHNzAAAAAAAAAAEAAAABAAAAKGN0dHMAAAAA\n",
       "AAAAAwAAAAEAAEAAAAAAAQAAgAAAAAACAAAgAAAAABxzdHNjAAAAAAAAAAEAAAABAAAABAAAAAEA\n",
       "AAAkc3RzegAAAAAAAAAAAAAABAAADPsAAAQxAAABZQAAATwAAAAUc3RjbwAAAAAAAAABAAAALAAA\n",
       "AGJ1ZHRhAAAAWm1ldGEAAAAAAAAAIWhkbHIAAAAAAAAAAG1kaXJhcHBsAAAAAAAAAAAAAAAALWls\n",
       "c3QAAAAlqXRvbwAAAB1kYXRhAAAAAQAAAABMYXZmNTguMjkuMTAw\n",
       "\">\n",
       "  Your browser does not support the video tag.\n",
       "</video>"
      ],
      "text/plain": [
       "<IPython.core.display.HTML object>"
      ]
     },
     "execution_count": 80,
     "metadata": {},
     "output_type": "execute_result"
    },
    {
     "data": {
      "image/png": "[encoded data removed]",
      "text/plain": [
       "<Figure size 432x288 with 1 Axes>"
      ]
     },
     "metadata": {},
     "output_type": "display_data"
    }
   ],
   "source": [
    "animation = animate_search(graph, f_h, e_h, p_h)\n",
    "save_animation(animation, \"BFS-test.mp4\")\n",
    "HTML(animation.to_html5_video())"
   ]
  },
  {
   "attachments": {},
   "cell_type": "markdown",
   "id": "2a9190fd",
   "metadata": {},
   "source": [
    "## 4. Iterative Deepening"
   ]
  },
  {
   "cell_type": "code",
   "execution_count": 32,
   "id": "ad44de98",
   "metadata": {},
   "outputs": [],
   "source": [
    "from typing import List, Union, Optional\n",
    "Point = Union[int, str]\n",
    "Trace = List[Point]"
   ]
  },
  {
   "cell_type": "code",
   "execution_count": 33,
   "id": "e8a6a030",
   "metadata": {},
   "outputs": [],
   "source": [
    "def interative_deepening(graph: Graph) -> Optional[Trace]:\n",
    "    \"\"\"\n",
    "    Uses the iterative deepening algorithm to search for a path from `graph.start` to `graph.goal`.\n",
    "\n",
    "    Parameters:\n",
    "    - graph: A Graph object representing the graph to search.\n",
    "\n",
    "    Returns:\n",
    "    - If a path is found, returns a Trace object containing the path from `graph.start` to `graph.goal`.\n",
    "    - If no path is found, returns None.\n",
    "\n",
    "    The function uses the depth-first search (DFS) algorithm to implement iterative deepening. Each iteration starts at `graph.start`\n",
    "    and increases the depth limit until it reaches the depth limit of all nodes in the graph.\n",
    "    For each iteration, the function calls the __dfs_with_limit helper function to perform a DFS search with a limited depth and store\n",
    "    the search result in a trace list. If the search finds the goal node, it returns the trace list. Otherwise, the function increases\n",
    "    the depth limit and continues to the next iteration until it finds the goal node or reaches the maximum depth limit.\n",
    "    \"\"\"\n",
    "    # A helper function that performs a DFS search with a limited depth \n",
    "    # and returns a trace list of the search result.\n",
    "    def __dfs_with_limit(cur_point: Point, deep: int, trace: Trace) -> Optional[Trace]: \n",
    "        trace.append(cur_point)\n",
    "        neighbours = graph.adjList.get(cur_point, [])\n",
    "        if cur_point == graph.goal: return trace\n",
    "        if deep == 0 or len(neighbours) == 0: return None\n",
    "        for n in neighbours: \n",
    "            if n in trace: continue\n",
    "            found_trace = __dfs_with_limit(n, deep-1, trace.copy())\n",
    "            if found_trace is not None: return found_trace\n",
    "        return None\n",
    "    # Initialize depth variables\n",
    "    cur_deep, max_deep = 0, len(graph.vertices)\n",
    "    # Iteratively perform DFS search with increasing depth limit\n",
    "    while cur_deep != max_deep: \n",
    "        found = __dfs_with_limit(graph.start, cur_deep, list())\n",
    "        if found is not None: return found\n",
    "        cur_deep = cur_deep + 1\n",
    "    # Return None if no path is found\n",
    "    return None\n"
   ]
  },
  {
   "cell_type": "code",
   "execution_count": 34,
   "id": "03a3b7a6",
   "metadata": {},
   "outputs": [
    {
     "data": {
      "image/png": "[encoded data removed]",
      "text/plain": [
       "<Figure size 432x288 with 1 Axes>"
      ]
     },
     "metadata": {},
     "output_type": "display_data"
    },
    {
     "name": "stdout",
     "output_type": "stream",
     "text": [
      "['A', 1, 2, 3, 4, 5, 'E']\n"
     ]
    }
   ],
   "source": [
    "def test_iterative_deepening(): \n",
    "    test_graph = Graph(\n",
    "        vertices=[\"A\", \"B\", \"C\", \"D\", \"E\", \"F\", \"G\", 1, 2, 3, 4, 5], \n",
    "        edges=[\n",
    "            (\"A\", \"B\"), (\"A\", \"C\"), (\"A\", 1), (\"B\", \"D\"), (\"B\", \"F\"), \n",
    "            (\"C\", \"G\"), (1, 2), (2, 3),(3, 4), (4, 5), (5, \"E\")\n",
    "        ],\n",
    "        start=\"A\", goal=\"E\", weighted=False\n",
    "    )\n",
    "    nx_graph = nx.Graph()\n",
    "    nx_graph.add_edges_from(test_graph.visualization)\n",
    "    nx.draw_networkx(nx_graph)\n",
    "    plt.show()\n",
    "    find_trace = interative_deepening(test_graph)\n",
    "    print(find_trace)\n",
    "\n",
    "test_iterative_deepening()"
   ]
  },
  {
   "cell_type": "code",
   "execution_count": 35,
   "id": "0e76c90f",
   "metadata": {},
   "outputs": [],
   "source": [
    "## 5. Beam Search"
   ]
  },
  {
   "cell_type": "code",
   "execution_count": 36,
   "id": "246287fa",
   "metadata": {},
   "outputs": [],
   "source": [
    "from typing import Callable, Dict, Iterator\n",
    "EvalFunc = Callable[[Graph, Point], int]\n",
    "degree_eval: EvalFunc = lambda graph, point : len(graph.adjList.get(point, []))\n",
    "euclidean_eval = lambda g, p: -1 # TODO(NEED HAVE COORDIATION)\n",
    "manhattan_eval = lambda g, p: -1 # TODO(NEED HAVE COORDIATION)"
   ]
  },
  {
   "cell_type": "code",
   "execution_count": 37,
   "id": "31f9d457",
   "metadata": {},
   "outputs": [],
   "source": [
    "def beam_search(graph: Graph, width: int = 2, eval_func: EvalFunc = degree_eval) -> Optional[Trace]: \n",
    "    \"\"\"\n",
    "    Uses the beam search algorithm to search for a path from `graph.start` to `graph.goal`.\n",
    "\n",
    "    Parameters:\n",
    "    - graph: A Graph object representing the graph to search.\n",
    "    - width: An integer representing the beam width.\n",
    "\n",
    "    Returns:\n",
    "    - If a path is found, returns a Trace object containing the path from `graph.start` to `graph.goal`.\n",
    "    - If no path is found, returns None.\n",
    "\n",
    "    The function uses the beam search algorithm to search for the shortest path from `graph.start` to `graph.goal`. The beam width\n",
    "    determines the maximum number of candidate nodes to consider at each level of the search tree. The evaluation function is based\n",
    "    on the number of neighboring nodes of a node. The function starts with the `graph.start` node and iteratively expands the most\n",
    "    promising nodes in the beam until it finds the `graph.goal` node or no path is found within the beam width.\n",
    "    \"\"\"\n",
    "\n",
    "    # Define the evaluation function and parent dictionary\n",
    "    eval_func: EvalFunc = lambda p : len(graph.adjList.get(p, []))\n",
    "    parent_of: Dict[Point, Point] = {graph.start: None}\n",
    "\n",
    "    # Perform the beam search\n",
    "    current_beam = {graph.start}\n",
    "    while current_beam and graph.goal not in parent_of:\n",
    "        next_beam = set()\n",
    "        for point in current_beam:\n",
    "            neighbors = {n for n in  graph.adjList.get(point, []) if n not in parent_of}\n",
    "            for n in neighbors: parent_of[n] = point\n",
    "            next_beam.update(neighbors)\n",
    "        next_beam = sorted(next_beam, key=eval_func, reverse=True)[:width]\n",
    "        current_beam = next_beam\n",
    "\n",
    "    # Return the result trace or None if no path is found\n",
    "    if graph.goal not in parent_of:return None\n",
    "    trace = [graph.goal]\n",
    "    while trace[0] != graph.start: \n",
    "        trace.insert(0, parent_of[trace[0]])\n",
    "    return trace\n"
   ]
  },
  {
   "cell_type": "code",
   "execution_count": 38,
   "id": "a158f26d",
   "metadata": {},
   "outputs": [
    {
     "data": {
      "image/png": "[encoded data removed]",
      "text/plain": [
       "<Figure size 432x288 with 1 Axes>"
      ]
     },
     "metadata": {},
     "output_type": "display_data"
    },
    {
     "name": "stdout",
     "output_type": "stream",
     "text": [
      "['A', 1, 2, 3, 4, 5, 'E']\n"
     ]
    }
   ],
   "source": [
    "def test_beam_search(): \n",
    "    test_graph = Graph(\n",
    "        vertices=[\"A\", \"B\", \"C\", \"D\", \"E\", \"F\", \"G\", 1, 2, 3, 4, 5], \n",
    "        edges=[\n",
    "            (\"A\", \"B\"), (\"A\", \"C\"), (\"A\", 1), (\"B\", \"D\"), (\"B\", \"F\"), \n",
    "            (\"C\", \"G\"), (1, 2), (2, 3),(3, 4), (4, 5), (5, \"E\")\n",
    "        ],\n",
    "        start=\"A\", goal=\"E\", weighted=False\n",
    "    )\n",
    "    nx_graph = nx.Graph()\n",
    "    nx_graph.add_edges_from(test_graph.visualization)\n",
    "    nx.draw_networkx(nx_graph)\n",
    "    plt.show()\n",
    "    find_trace = beam_search(test_graph)\n",
    "    print(find_trace)\n",
    "\n",
    "test_beam_search()"
   ]
  },
  {
   "cell_type": "code",
   "execution_count": 39,
   "id": "d54c7dbf",
   "metadata": {},
   "outputs": [],
   "source": [
    "## 6. Hill Climbing"
   ]
  },
  {
   "cell_type": "code",
   "execution_count": 40,
   "id": "14833587",
   "metadata": {},
   "outputs": [],
   "source": [
    "def hill_climbing(graph: Graph, eval_func: EvalFunc = degree_eval, only_best: bool = True) -> Optional[Trace]:\n",
    "    \"\"\"\n",
    "    Uses the Hill Climbing algorithm to search for a path from `graph.start` to `graph.goal`.\n",
    "\n",
    "    Parameters:\n",
    "    - graph: A Graph object representing the graph to search.\n",
    "    - eval_func: An evaluation function to evaluate the quality of nodes (default is degree_eval).\n",
    "    - only_best: A boolean indicating whether to consider only the best neighbour (default is True).\n",
    "            If we following exactly the definition of the hill climbing, it will only find the best. \n",
    "\n",
    "    Returns:\n",
    "    - If a path is found, returns a list containing the path from `graph.start` to `graph.goal`.\n",
    "    - If no path is found, returns None.\n",
    "    \"\"\"\n",
    "    def __dfs_with_best(cur_point: Point, trace: Trace) -> Optional[Trace]: \n",
    "        trace.append(cur_point)\n",
    "        if cur_point == graph.goal: return trace\n",
    "        neighbours = graph.adjList.get(cur_point, [])\n",
    "        if len(neighbours) == 0: return None\n",
    "        neighbours.sort(key=lambda p: eval_func(graph, p), reverse=True)\n",
    "        if only_best: neighbours = [neighbours[0]]\n",
    "        for n in neighbours: \n",
    "            if n in trace: continue\n",
    "            found_trace = __dfs_with_best(n, trace.copy())\n",
    "            if found_trace is not None: return found_trace\n",
    "        return None\n",
    "    return __dfs_with_best(graph.start, [])"
   ]
  },
  {
   "cell_type": "code",
   "execution_count": 41,
   "id": "79b12113",
   "metadata": {},
   "outputs": [
    {
     "data": {
      "image/png": "[encoded data removed]",
      "text/plain": [
       "<Figure size 432x288 with 1 Axes>"
      ]
     },
     "metadata": {},
     "output_type": "display_data"
    },
    {
     "name": "stdout",
     "output_type": "stream",
     "text": [
      "['A', 1, 2, 3, 4, 5, 'E']\n"
     ]
    }
   ],
   "source": [
    "def test_hill_climbing(): \n",
    "    test_graph = Graph(\n",
    "        vertices=[\"A\", \"B\", \"C\", \"D\", \"E\", \"F\", \"G\", 1, 2, 3, 4, 5], \n",
    "        edges=[\n",
    "            (\"A\", \"B\"), (\"A\", \"C\"), (\"A\", 1), (\"B\", \"D\"), (\"B\", \"F\"), \n",
    "            (\"C\", \"G\"), (1, 2), (2, 3),(3, 4), (4, 5), (5, \"E\")\n",
    "        ],\n",
    "        start=\"A\", goal=\"E\", weighted=False\n",
    "    )\n",
    "    nx_graph = nx.Graph()\n",
    "    nx_graph.add_edges_from(test_graph.visualization)\n",
    "    nx.draw_networkx(nx_graph)\n",
    "    plt.show()\n",
    "    find_trace = hill_climbing(test_graph, only_best=False)\n",
    "    print(find_trace)\n",
    "\n",
    "test_hill_climbing()"
   ]
  },
  {
   "cell_type": "code",
   "execution_count": null,
   "id": "82b1221c",
   "metadata": {},
   "outputs": [],
   "source": []
  },
  {
   "cell_type": "markdown",
   "metadata": {},
   "source": []
  }
 ],
 "metadata": {
  "kernelspec": {
   "display_name": "Python 3 (ipykernel)",
   "language": "python",
   "name": "python3"
  },
  "language_info": {
   "codemirror_mode": {
    "name": "ipython",
    "version": 3
   },
   "file_extension": ".py",
   "mimetype": "text/x-python",
   "name": "python",
   "nbconvert_exporter": "python",
   "pygments_lexer": "ipython3",
   "version": "3.9.7"
  }
 },
 "nbformat": 4,
 "nbformat_minor": 5
}
