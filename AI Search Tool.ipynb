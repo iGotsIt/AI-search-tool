{
 "cells": [
  {
   "cell_type": "code",
   "execution_count": 119,
   "id": "c9a475d8",
   "metadata": {},
   "outputs": [],
   "source": [
    "import pydot\n",
    "import networkx as nx\n",
    "import matplotlib.pyplot as plt\n",
    "from collections import defaultdict\n",
    "from networkx.drawing.nx_pydot import graphviz_layout"
   ]
  },
  {
   "cell_type": "code",
   "execution_count": 134,
   "id": "47fc9d32",
   "metadata": {},
   "outputs": [],
   "source": [
    "class Graph:\n",
    "    def __init__(self, vertices, edges, weighted = False, start, goal):\n",
    "        self.vertices = vertices\n",
    "        self.weighted = weighted\n",
    "        self.visualization = edges\n",
    "        self.start = start\n",
    "        self.goal = goal\n",
    "        self.adjList = defaultdict(list)\n",
    "        self.create_adj_list(edges)\n",
    "    \n",
    "    def visualize_graph(self):\n",
    "        nx_graph = nx.Graph()\n",
    "        if (self.weighted == True):\n",
    "            nx_graph.add_weighted_edges_from(self.visualization)\n",
    "            costs = nx.get_edge_attributes(nx_graph, 'weight')\n",
    "            pos = graphviz_layout(nx_graph, prog = \"dot\", root = self.vertices[0])\n",
    "            nx.draw_networkx_edge_labels(nx_graph, pos, edge_labels = costs, font_color = 'red')\n",
    "            nx.draw_networkx(nx_graph, pos, with_labels = \"True\", alpha = 0.9, node_color = 'cyan')\n",
    "        else:\n",
    "            pos = graphviz_layout(nx_graph, prog = \"dot\", root = self.vertices[0])\n",
    "            nx_graph.add_edges_from(self.visualization)\n",
    "            nx.draw_networkx(nx_graph, pos, with_labels = \"True\")\n",
    "        plt.show()\n",
    "        \n",
    "    def create_adj_list(self, edges):\n",
    "        for edge in edges:\n",
    "            source = edge[0]\n",
    "            destination = edge[1]\n",
    "            self.adjList[source].append(destination)\n",
    "            self.adjList[destination].append(source)\n",
    "            \n",
    "    def print_adj_list(self):\n",
    "        for item in self.adjList.items():\n",
    "            print(item)"
   ]
  }
 ],
 "metadata": {
  "kernelspec": {
   "display_name": "Python 3 (ipykernel)",
   "language": "python",
   "name": "python3"
  },
  "language_info": {
   "codemirror_mode": {
    "name": "ipython",
    "version": 3
   },
   "file_extension": ".py",
   "mimetype": "text/x-python",
   "name": "python",
   "nbconvert_exporter": "python",
   "pygments_lexer": "ipython3",
   "version": "3.9.12"
  }
 },
 "nbformat": 4,
 "nbformat_minor": 5
}
