{
 "cells": [
  {
   "cell_type": "code",
   "execution_count": 60,
   "id": "c9a475d8",
   "metadata": {},
   "outputs": [],
   "source": [
    "import pydot\n",
    "import networkx as nx\n",
    "import matplotlib.pyplot as plt\n",
    "from collections import defaultdict\n",
    "from networkx.drawing.nx_pydot import graphviz_layout"
   ]
  },
  {
   "cell_type": "code",
   "execution_count": 77,
   "id": "47fc9d32",
   "metadata": {},
   "outputs": [],
   "source": [
    "class Graph:\n",
    "    def __init__(self, vertices, edges, start, goal, weighted = False):\n",
    "        '''\n",
    "        edge is a tuple of vertices (probably numbers or something)\n",
    "        think this is already kind of a digraph?\n",
    "        '''\n",
    "        self.vertices = vertices\n",
    "        self.weighted = weighted\n",
    "        self.visualization = edges\n",
    "        self.start = start\n",
    "        self.goal = goal\n",
    "        self.adjList = defaultdict(list)\n",
    "        self.create_adj_list(edges)\n",
    "    \n",
    "    def visualize_graph(self):\n",
    "        nx_graph = nx.Graph()\n",
    "        if (self.weighted == True):\n",
    "            nx_graph.add_weighted_edges_from(self.visualization)\n",
    "            costs = nx.get_edge_attributes(nx_graph, 'weight')\n",
    "            pos = graphviz_layout(nx_graph, prog = \"dot\", root = self.vertices[0])\n",
    "            nx.draw_networkx_edge_labels(nx_graph, pos, edge_labels = costs, font_color = 'red')\n",
    "            nx.draw_networkx(nx_graph, pos, with_labels = \"True\", alpha = 0.9, node_color = 'cyan')\n",
    "        else:\n",
    "            nx_graph.add_edges_from(self.visualization)\n",
    "            pos = graphviz_layout(nx_graph, prog = \"dot\", root = self.vertices[0])\n",
    "            nx.draw_networkx(nx_graph, pos, with_labels = \"True\")\n",
    "        plt.show()\n",
    "        \n",
    "    def create_adj_list(self, edges):\n",
    "        for edge in edges:\n",
    "            source = edge[0]\n",
    "            destination = edge[1]\n",
    "            self.adjList[source].append(destination)\n",
    "            self.adjList[destination].append(source)\n",
    "            \n",
    "    def print_adj_list(self):\n",
    "        for item in self.adjList.items():\n",
    "            print(item)"
   ]
  },
  {
   "cell_type": "code",
   "execution_count": 8,
   "id": "8e5042b3",
   "metadata": {},
   "outputs": [],
   "source": [
    "from collections import deque\n",
    "from copy import deepcopy\n",
    "\n",
    "def get_path(current_position, previous_node):\n",
    "    path = []\n",
    "    while current_position in previous_node.keys() and current_position != None:\n",
    "        path.append(current_position)\n",
    "        current_position = previous_node[current_position]\n",
    "    return path\n",
    "\n",
    "def BFS(graph):\n",
    "    '''\n",
    "    Returns a frontier history, explore history, and path history. \n",
    "    Use history to visualize the frontier, path, and explored nodes at each step. \n",
    "    '''\n",
    "    frontier_steps = []\n",
    "    explored_steps = []\n",
    "    start = graph.start\n",
    "    goal = graph.goal\n",
    "    explored = deque([start])\n",
    "    frontier = deque([start])\n",
    "    previous_node = {start: None}\n",
    "    paths_history = []\n",
    "    frontier_steps.append(deepcopy(frontier))\n",
    "    explored_steps.append(deepcopy(explored))\n",
    "    paths_history.append([])\n",
    "    while len(frontier) != 0:\n",
    "        current_node = frontier[0]\n",
    "        frontier.popleft()\n",
    "        if current_node == goal:\n",
    "            frontier_steps.append(deepcopy(frontier))\n",
    "            explored_steps.append(deepcopy(explored))\n",
    "            paths_history.append(get_path(current_node, previous_node))\n",
    "            return frontier_steps, explored_steps, paths_history       \n",
    "        for node in graph.adjList[current_node]:\n",
    "            if node not in explored:\n",
    "                frontier.append(node)\n",
    "                explored.append(node)\n",
    "                previous_node[node] = current_node\n",
    "        frontier_steps.append(deepcopy(frontier))\n",
    "        explored_steps.append(deepcopy(explored))\n",
    "        paths_history.append(get_path(current_node, previous_node))"
   ]
  },
  {
   "cell_type": "code",
   "execution_count": 9,
   "id": "7b2a1ee0",
   "metadata": {},
   "outputs": [],
   "source": [
    "def DFS(graph):\n",
    "    '''\n",
    "    Returns a frontier history, explore history, and path history. \n",
    "    Use history to visualize the frontier, path, and explored nodes at each step. \n",
    "    '''\n",
    "    frontier_steps = []\n",
    "    explored_steps = []\n",
    "    start = graph.start\n",
    "    goal = graph.goal\n",
    "    explored = deque([start])\n",
    "    frontier = deque([start])\n",
    "    previous_node = {start: None}\n",
    "    paths_history = []\n",
    "    frontier_steps.append(deepcopy(frontier))\n",
    "    explored_steps.append(deepcopy(explored))\n",
    "    paths_history.append([])\n",
    "    while len(frontier) != 0:\n",
    "        current_node = frontier[-1]\n",
    "        frontier.pop()\n",
    "        if current_node == goal:\n",
    "            frontier_steps.append(deepcopy(frontier))\n",
    "            explored_steps.append(deepcopy(explored))\n",
    "            paths_history.append(get_path(current_node, previous_node))\n",
    "            return frontier_steps, explored_steps, paths_history       \n",
    "        for node in graph.adjList[current_node]:\n",
    "            if node not in explored:\n",
    "                frontier.append(node)\n",
    "                explored.append(node)\n",
    "                previous_node[node] = current_node\n",
    "        frontier_steps.append(deepcopy(frontier))\n",
    "        explored_steps.append(deepcopy(explored))\n",
    "        paths_history.append(get_path(current_node, previous_node))"
   ]
  },
  {
   "attachments": {},
   "cell_type": "markdown",
   "id": "22e2fe82",
   "metadata": {},
   "source": [
    "## 4. Iterative Deepening"
   ]
  },
  {
   "cell_type": "code",
   "execution_count": 53,
   "id": "fa2245e6",
   "metadata": {},
   "outputs": [],
   "source": [
    "from typing import List, Union, Optional\n",
    "Point = Union[int, str]\n",
    "Trace = List[Point]"
   ]
  },
  {
   "cell_type": "code",
   "execution_count": 66,
   "id": "bd6b7dfa",
   "metadata": {},
   "outputs": [],
   "source": [
    "def interative_deepening(graph: Graph) -> Optional[Trace]:\n",
    "    \"\"\"\n",
    "    Uses the iterative deepening algorithm to search for a path from `graph.start` to `graph.goal`.\n",
    "\n",
    "    Parameters:\n",
    "    - graph: A Graph object representing the graph to search.\n",
    "\n",
    "    Returns:\n",
    "    - If a path is found, returns a Trace object containing the path from `graph.start` to `graph.goal`.\n",
    "    - If no path is found, returns None.\n",
    "\n",
    "    The function uses the depth-first search (DFS) algorithm to implement iterative deepening. Each iteration starts at `graph.start`\n",
    "    and increases the depth limit until it reaches the depth limit of all nodes in the graph.\n",
    "    For each iteration, the function calls the __dfs_with_limit helper function to perform a DFS search with a limited depth and store\n",
    "    the search result in a trace list. If the search finds the goal node, it returns the trace list. Otherwise, the function increases\n",
    "    the depth limit and continues to the next iteration until it finds the goal node or reaches the maximum depth limit.\n",
    "    \"\"\"\n",
    "    # A helper function that performs a DFS search with a limited depth \n",
    "    # and returns a trace list of the search result.\n",
    "    def __dfs_with_limit(cur_point: Point, deep: int, trace: Trace) -> Optional[Trace]: \n",
    "        trace.append(cur_point)\n",
    "        neighbours = graph.adjList.get(cur_point, [])\n",
    "        if cur_point == graph.goal: return trace\n",
    "        if deep == 0 or len(neighbours) == 0: return None\n",
    "        for n in neighbours: \n",
    "            if n in trace: continue\n",
    "            found_trace = __dfs_with_limit(n, deep-1, trace.copy())\n",
    "            if found_trace is not None: return found_trace\n",
    "        return None\n",
    "    # Initialize depth variables\n",
    "    cur_deep, max_deep = 0, len(graph.vertices)\n",
    "    # Iteratively perform DFS search with increasing depth limit\n",
    "    while cur_deep != max_deep: \n",
    "        found = __dfs_with_limit(graph.start, cur_deep, list())\n",
    "        if found is not None: return found\n",
    "        cur_deep = cur_deep + 1\n",
    "    # Return None if no path is found\n",
    "    return None\n"
   ]
  },
  {
   "cell_type": "code",
   "execution_count": 80,
   "metadata": {},
   "outputs": [
    {
     "data": {
      "image/png": "[encoded data removed]",
      "text/plain": [
       "<Figure size 640x480 with 1 Axes>"
      ]
     },
     "metadata": {},
     "output_type": "display_data"
    },
    {
     "name": "stdout",
     "output_type": "stream",
     "text": [
      "['A', 1, 2, 3, 4, 5, 'E']\n"
     ]
    }
   ],
   "source": [
    "def test_iterative_deepening(): \n",
    "    test_graph = Graph(\n",
    "        vertices=[\"A\", \"B\", \"C\", \"D\", \"E\", \"F\", \"G\", 1, 2, 3, 4, 5], \n",
    "        edges=[\n",
    "            (\"A\", \"B\"), (\"A\", \"C\"), (\"A\", 1), (\"B\", \"D\"), (\"B\", \"F\"), \n",
    "            (\"C\", \"G\"), (1, 2), (2, 3),(3, 4), (4, 5), (5, \"E\")\n",
    "        ],\n",
    "        start=\"A\", goal=\"E\", weighted=False\n",
    "    )\n",
    "    nx_graph = nx.Graph()\n",
    "    nx_graph.add_edges_from(test_graph.visualization)\n",
    "    nx.draw_networkx(nx_graph)\n",
    "    plt.show()\n",
    "    find_trace = interative_deepening(test_graph)\n",
    "    print(find_trace)\n",
    "\n",
    "test_iterative_deepening()"
   ]
  },
  {
   "attachments": {},
   "cell_type": "markdown",
   "id": "75d0a32e",
   "metadata": {},
   "source": [
    "## 5. Beam Search"
   ]
  },
  {
   "cell_type": "code",
   "execution_count": 136,
   "id": "604109b7",
   "metadata": {},
   "outputs": [],
   "source": [
    "from typing import Callable, Dict, Iterator\n",
    "EvalFunc = Callable[[Graph, Point], int]\n",
    "degree_eval: EvalFunc = lambda graph, point : len(graph.adjList.get(point, []))\n",
    "euclidean_eval = lambda g, p: -1 # TODO(NEED HAVE COORDIATION)\n",
    "manhattan_eval = lambda g, p: -1 # TODO(NEED HAVE COORDIATION)"
   ]
  },
  {
   "cell_type": "code",
   "execution_count": 137,
   "id": "3c7ad3a9",
   "metadata": {},
   "outputs": [],
   "source": [
    "def beam_search(graph: Graph, width: int = 2, eval_func: EvalFunc = degree_eval) -> Optional[Trace]: \n",
    "    \"\"\"\n",
    "    Uses the beam search algorithm to search for a path from `graph.start` to `graph.goal`.\n",
    "\n",
    "    Parameters:\n",
    "    - graph: A Graph object representing the graph to search.\n",
    "    - width: An integer representing the beam width.\n",
    "\n",
    "    Returns:\n",
    "    - If a path is found, returns a Trace object containing the path from `graph.start` to `graph.goal`.\n",
    "    - If no path is found, returns None.\n",
    "\n",
    "    The function uses the beam search algorithm to search for the shortest path from `graph.start` to `graph.goal`. The beam width\n",
    "    determines the maximum number of candidate nodes to consider at each level of the search tree. The evaluation function is based\n",
    "    on the number of neighboring nodes of a node. The function starts with the `graph.start` node and iteratively expands the most\n",
    "    promising nodes in the beam until it finds the `graph.goal` node or no path is found within the beam width.\n",
    "    \"\"\"\n",
    "\n",
    "    # Define the evaluation function and parent dictionary\n",
    "    eval_func: EvalFunc = lambda p : len(graph.adjList.get(p, []))\n",
    "    parent_of: Dict[Point, Point] = {graph.start: None}\n",
    "\n",
    "    # Perform the beam search\n",
    "    current_beam = {graph.start}\n",
    "    while current_beam and graph.goal not in parent_of:\n",
    "        next_beam = set()\n",
    "        for point in current_beam:\n",
    "            neighbors = {n for n in  graph.adjList.get(point, []) if n not in parent_of}\n",
    "            for n in neighbors: parent_of[n] = point\n",
    "            next_beam.update(neighbors)\n",
    "        next_beam = sorted(next_beam, key=eval_func, reverse=True)[:width]\n",
    "        current_beam = next_beam\n",
    "\n",
    "    # Return the result trace or None if no path is found\n",
    "    if graph.goal not in parent_of:return None\n",
    "    trace = [graph.goal]\n",
    "    while trace[0] != graph.start: \n",
    "        trace.insert(0, parent_of[trace[0]])\n",
    "    return trace\n"
   ]
  },
  {
   "cell_type": "code",
   "execution_count": 138,
   "id": "fc6cbaa0",
   "metadata": {},
   "outputs": [
    {
     "data": {
      "image/png": "[encoded data removed]",
      "text/plain": [
       "<Figure size 640x480 with 1 Axes>"
      ]
     },
     "metadata": {},
     "output_type": "display_data"
    },
    {
     "name": "stdout",
     "output_type": "stream",
     "text": [
      "['A', 1, 2, 3, 4, 5, 'E']\n"
     ]
    }
   ],
   "source": [
    "def test_beam_search(): \n",
    "    test_graph = Graph(\n",
    "        vertices=[\"A\", \"B\", \"C\", \"D\", \"E\", \"F\", \"G\", 1, 2, 3, 4, 5], \n",
    "        edges=[\n",
    "            (\"A\", \"B\"), (\"A\", \"C\"), (\"A\", 1), (\"B\", \"D\"), (\"B\", \"F\"), \n",
    "            (\"C\", \"G\"), (1, 2), (2, 3),(3, 4), (4, 5), (5, \"E\")\n",
    "        ],\n",
    "        start=\"A\", goal=\"E\", weighted=False\n",
    "    )\n",
    "    nx_graph = nx.Graph()\n",
    "    nx_graph.add_edges_from(test_graph.visualization)\n",
    "    nx.draw_networkx(nx_graph)\n",
    "    plt.show()\n",
    "    find_trace = beam_search(test_graph)\n",
    "    print(find_trace)\n",
    "\n",
    "test_beam_search()"
   ]
  },
  {
   "attachments": {},
   "cell_type": "markdown",
   "id": "67da285d",
   "metadata": {},
   "source": []
  },
  {
   "cell_type": "code",
   "execution_count": 163,
   "id": "3850ba8b",
   "metadata": {},
   "outputs": [],
   "source": [
    "def hill_climbing(graph: Graph, eval_func: EvalFunc = degree_eval, only_best: bool = True) -> Optional[Trace]:\n",
    "    \"\"\"\n",
    "    Uses the Hill Climbing algorithm to search for a path from `graph.start` to `graph.goal`.\n",
    "\n",
    "    Parameters:\n",
    "    - graph: A Graph object representing the graph to search.\n",
    "    - eval_func: An evaluation function to evaluate the quality of nodes (default is degree_eval).\n",
    "    - only_best: A boolean indicating whether to consider only the best neighbour (default is True).\n",
    "            If we following exactly the definition of the hill climbing, it will only find the best. \n",
    "\n",
    "    Returns:\n",
    "    - If a path is found, returns a list containing the path from `graph.start` to `graph.goal`.\n",
    "    - If no path is found, returns None.\n",
    "    \"\"\"\n",
    "    def __dfs_with_best(cur_point: Point, trace: Trace) -> Optional[Trace]: \n",
    "        trace.append(cur_point)\n",
    "        if cur_point == graph.goal: return trace\n",
    "        neighbours = graph.adjList.get(cur_point, [])\n",
    "        if len(neighbours) == 0: return None\n",
    "        neighbours.sort(key=lambda p: eval_func(graph, p), reverse=True)\n",
    "        if only_best: neighbours = [neighbours[0]]\n",
    "        for n in neighbours: \n",
    "            if n in trace: continue\n",
    "            found_trace = __dfs_with_best(n, trace.copy())\n",
    "            if found_trace is not None: return found_trace\n",
    "        return None\n",
    "    return __dfs_with_best(graph.start, [])"
   ]
  },
  {
   "cell_type": "code",
   "execution_count": 165,
   "id": "15be3321",
   "metadata": {},
   "outputs": [
    {
     "data": {
      "image/png": "[encoded data removed]",
      "text/plain": [
       "<Figure size 640x480 with 1 Axes>"
      ]
     },
     "metadata": {},
     "output_type": "display_data"
    },
    {
     "name": "stdout",
     "output_type": "stream",
     "text": [
      "['A', 1, 2, 3, 4, 5, 'E']\n"
     ]
    }
   ],
   "source": [
    "def test_hill_climbing(): \n",
    "    test_graph = Graph(\n",
    "        vertices=[\"A\", \"B\", \"C\", \"D\", \"E\", \"F\", \"G\", 1, 2, 3, 4, 5], \n",
    "        edges=[\n",
    "            (\"A\", \"B\"), (\"A\", \"C\"), (\"A\", 1), (\"B\", \"D\"), (\"B\", \"F\"), \n",
    "            (\"C\", \"G\"), (1, 2), (2, 3),(3, 4), (4, 5), (5, \"E\")\n",
    "        ],\n",
    "        start=\"A\", goal=\"E\", weighted=False\n",
    "    )\n",
    "    nx_graph = nx.Graph()\n",
    "    nx_graph.add_edges_from(test_graph.visualization)\n",
    "    nx.draw_networkx(nx_graph)\n",
    "    plt.show()\n",
    "    find_trace = hill_climbing(test_graph, only_best=False)\n",
    "    print(find_trace)\n",
    "\n",
    "test_hill_climbing()"
   ]
  }
 ],
 "metadata": {
  "kernelspec": {
   "display_name": "Python 3 (ipykernel)",
   "language": "python",
   "name": "python3"
  },
  "language_info": {
   "codemirror_mode": {
    "name": "ipython",
    "version": 3
   },
   "file_extension": ".py",
   "mimetype": "text/x-python",
   "name": "python",
   "nbconvert_exporter": "python",
   "pygments_lexer": "ipython3",
   "version": "3.11.3"
  }
 },
 "nbformat": 4,
 "nbformat_minor": 5
}
