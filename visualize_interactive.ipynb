{
 "cells": [
  {
   "cell_type": "code",
   "execution_count": 1,
   "metadata": {},
   "outputs": [
    {
     "name": "stdout",
     "output_type": "stream",
     "text": [
      "Using matplotlib backend: Qt5Agg\n"
     ]
    }
   ],
   "source": [
    "#open matplotlib backend\n",
    "%matplotlib"
   ]
  },
  {
   "cell_type": "code",
   "execution_count": 2,
   "metadata": {},
   "outputs": [],
   "source": [
    "import numpy as np\n",
    "import matplotlib.pyplot as plt\n",
    "from matplotlib.widgets import Button\n",
    "import search_tool\n",
    "from search_tool import Graph\n",
    "from networkx.drawing.nx_pydot import graphviz_layout\n",
    "import networkx as nx"
   ]
  },
  {
   "cell_type": "code",
   "execution_count": 3,
   "metadata": {},
   "outputs": [],
   "source": [
    "#put graph here\n",
    "\n",
    "graph = Graph(['A', ('B', 6), ('C', 4), ('D',3)], [('A', 'B', 5), ('B', 'C', 4), ('B', 'D', 3)], 'A', 'C', weighted=True)\n",
    "f_h, e_h, p_h = search_tool.BFS(graph)"
   ]
  },
  {
   "cell_type": "code",
   "execution_count": 4,
   "metadata": {},
   "outputs": [],
   "source": [
    "#helper functions for clarity\n",
    "def draw_color_coded_graph(graph, color_map, ax):\n",
    "    if graph.weighted == True:\n",
    "        costs = nx.get_edge_attributes(graph.nx_graph, 'weight')\n",
    "        pos = graphviz_layout(graph.nx_graph, prog = \"dot\", root = graph.start)\n",
    "        nx.draw_networkx_edge_labels(graph.nx_graph, pos, edge_labels = costs, font_color = 'red')\n",
    "        nx.draw_networkx(graph.nx_graph, pos, with_labels = \"True\", alpha = 0.9, node_color=color_map, ax=ax)\n",
    "        plt.draw()\n",
    "    else:\n",
    "        pos = graphviz_layout(graph.nx_graph, prog = \"dot\", root = graph.start)\n",
    "        nx.draw_networkx(graph.nx_graph, pos, with_labels = \"True\", node_color=color_map, ax=ax)\n",
    "        plt.draw()\n",
    "\n",
    "def draw_graph_on_axis(graph, ax):\n",
    "    if graph.weighted == True:\n",
    "        costs = nx.get_edge_attributes(graph.nx_graph, 'weight')\n",
    "        pos = graphviz_layout(graph.nx_graph, prog = \"dot\", root = graph.start)\n",
    "        nx.draw_networkx_edge_labels(graph.nx_graph, pos, edge_labels = costs, font_color = 'red')\n",
    "        nx.draw_networkx(graph.nx_graph, pos, with_labels = \"True\", alpha = 0.9, node_color='cyan', ax=ax)\n",
    "        plt.draw()\n",
    "    else:\n",
    "        pos = graphviz_layout(graph.nx_graph, prog = \"dot\", root = graph.start)\n",
    "        nx.draw_networkx(graph.nx_graph, pos, with_labels = \"True\", node_color='cyan', ax=ax)\n",
    "        plt.draw()"
   ]
  },
  {
   "cell_type": "code",
   "execution_count": 5,
   "metadata": {},
   "outputs": [],
   "source": [
    "#visualization; will open a new window on local computer, will crash on remote network\n",
    "fig, ax = plt.subplots()\n",
    "graph.visualize_graph()\n",
    "fig.subplots_adjust(bottom=0.2)\n",
    "\n",
    "class Index:\n",
    "    ind = 0\n",
    "    def __init__(self, graph, f_h, e_h, p_h, ax):\n",
    "        self.graph = graph\n",
    "        self.f_h = f_h\n",
    "        self.e_h = e_h\n",
    "        self.p_h = p_h\n",
    "        self.ax = ax\n",
    "    def next(self, event):\n",
    "        self.ind += 1\n",
    "        i = self.ind % len(self.f_h)\n",
    "        color_map = []\n",
    "        for node in self.graph.nx_graph:\n",
    "            if node in self.p_h[i]: \n",
    "                color_map.append('green')\n",
    "            elif node in self.f_h[i]:\n",
    "                color_map.append('yellow')\n",
    "            elif node in self.e_h[i]:\n",
    "                color_map.append('purple')\n",
    "            else:\n",
    "                color_map.append('cyan')\n",
    "        draw_color_coded_graph(self.graph, color_map, self.ax)\n",
    "    def prev(self, event):\n",
    "        self.ind -= 1\n",
    "        i = self.ind % len(self.f_h)\n",
    "        color_map = []\n",
    "        for node in self.graph.nx_graph:\n",
    "            if node in self.p_h[i]: \n",
    "                color_map.append('green')\n",
    "            elif node in self.f_h[i]:\n",
    "                color_map.append('yellow')\n",
    "            elif node in self.e_h[i]:\n",
    "                color_map.append('purple')\n",
    "            else:\n",
    "                color_map.append('cyan')\n",
    "        draw_color_coded_graph(self.graph, color_map, self.ax)\n",
    "    \n",
    "    def restart(self, event):\n",
    "        draw_graph_on_axis(self.graph, self.ax)\n",
    "        self.ind = 0\n",
    "    \n",
    "    def last(self, event):\n",
    "        self.ind = len(self.f_h) - 1\n",
    "        i = self.ind % len(self.f_h)\n",
    "        color_map = []\n",
    "        for node in self.graph.nx_graph:\n",
    "            if node in self.p_h[i]: \n",
    "                color_map.append('green')\n",
    "            elif node in self.f_h[i]:\n",
    "                color_map.append('yellow')\n",
    "            elif node in self.e_h[i]:\n",
    "                color_map.append('purple')\n",
    "            else:\n",
    "                color_map.append('cyan')\n",
    "        draw_color_coded_graph(self.graph, color_map, self.ax)\n",
    "\n",
    "callback = Index(graph, f_h, e_h, p_h, ax)\n",
    "axprev = fig.add_axes([0.6, 0.05, 0.1, 0.075])\n",
    "axnext = fig.add_axes([0.7, 0.05, 0.1, 0.075])\n",
    "axend = fig.add_axes([0.8, 0.05, 0.1, 0.075])\n",
    "axrestart = fig.add_axes([0.5, 0.05, 0.1, 0.075])\n",
    "bnext = Button(axnext, 'Next')\n",
    "bnext.on_clicked(callback.next)\n",
    "bprev = Button(axprev, 'Previous')\n",
    "bprev.on_clicked(callback.prev)\n",
    "brestart = Button(axrestart, 'Restart')\n",
    "brestart.on_clicked(callback.restart)\n",
    "bend = Button(axend, 'End')\n",
    "bend.on_clicked(callback.last)\n",
    "plt.show()"
   ]
  },
  {
   "cell_type": "code",
   "execution_count": null,
   "metadata": {},
   "outputs": [],
   "source": []
  }
 ],
 "metadata": {
  "kernelspec": {
   "display_name": "base",
   "language": "python",
   "name": "python3"
  },
  "language_info": {
   "codemirror_mode": {
    "name": "ipython",
    "version": 3
   },
   "file_extension": ".py",
   "mimetype": "text/x-python",
   "name": "python",
   "nbconvert_exporter": "python",
   "pygments_lexer": "ipython3",
   "version": "3.8.16"
  },
  "orig_nbformat": 4
 },
 "nbformat": 4,
 "nbformat_minor": 2
}
